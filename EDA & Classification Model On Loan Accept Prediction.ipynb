{
 "cells": [
  {
   "cell_type": "raw",
   "metadata": {},
   "source": [
    "Before getting into EDA& ML Model let's have some hypothesis.\n",
    "a) Credit History plays important role in Loan acceptance\n",
    "b) Chances of Loan acceptance is high for people with more income\n",
    "c) If loan amount is high then Loan acceptnce may be low\n",
    "d) Loan acceptance  for Married people may be high \n",
    "e) Educated people have more chances of Loan approval"
   ]
  },
  {
   "cell_type": "code",
   "execution_count": 1,
   "metadata": {},
   "outputs": [],
   "source": [
    "#Importing Modules\n",
    "import seaborn as sns\n",
    "import pandas as pd\n",
    "import numpy  as np\n",
    "import matplotlib.pyplot as plt\n",
    "from sklearn.metrics import confusion_matrix,log_loss,classification_report,accuracy_score,precision_recall_curve\n",
    "from sklearn.linear_model import LogisticRegression\n",
    "from sklearn.model_selection import train_test_split\n",
    "from sklearn import metrics\n",
    "%matplotlib inline\n",
    "import warnings\n",
    "warnings.filterwarnings('ignore')"
   ]
  },
  {
   "cell_type": "code",
   "execution_count": 2,
   "metadata": {},
   "outputs": [],
   "source": [
    "#Loading Dataset\n",
    "train=pd.read_csv('train.csv')\n",
    "train.authentic=train.copy()"
   ]
  },
  {
   "cell_type": "code",
   "execution_count": 3,
   "metadata": {},
   "outputs": [
    {
     "data": {
      "text/plain": [
       "Index(['Loan_ID', 'Gender', 'Married', 'Dependents', 'Education',\n",
       "       'Self_Employed', 'ApplicantIncome', 'CoapplicantIncome', 'LoanAmount',\n",
       "       'Loan_Amount_Term', 'Credit_History', 'Property_Area', 'Loan_Status'],\n",
       "      dtype='object')"
      ]
     },
     "execution_count": 3,
     "metadata": {},
     "output_type": "execute_result"
    }
   ],
   "source": [
    "train.columns"
   ]
  },
  {
   "cell_type": "code",
   "execution_count": 4,
   "metadata": {},
   "outputs": [
    {
     "data": {
      "text/plain": [
       "Loan_ID               object\n",
       "Gender                object\n",
       "Married               object\n",
       "Dependents            object\n",
       "Education             object\n",
       "Self_Employed         object\n",
       "ApplicantIncome        int64\n",
       "CoapplicantIncome    float64\n",
       "LoanAmount           float64\n",
       "Loan_Amount_Term     float64\n",
       "Credit_History       float64\n",
       "Property_Area         object\n",
       "Loan_Status           object\n",
       "dtype: object"
      ]
     },
     "execution_count": 4,
     "metadata": {},
     "output_type": "execute_result"
    }
   ],
   "source": [
    "train.dtypes"
   ]
  },
  {
   "cell_type": "markdown",
   "metadata": {},
   "source": [
    "# Data Wrangling"
   ]
  },
  {
   "cell_type": "code",
   "execution_count": 5,
   "metadata": {},
   "outputs": [
    {
     "data": {
      "text/plain": [
       "Loan_ID               0\n",
       "Gender               13\n",
       "Married               3\n",
       "Dependents           15\n",
       "Education             0\n",
       "Self_Employed        32\n",
       "ApplicantIncome       0\n",
       "CoapplicantIncome     0\n",
       "LoanAmount           22\n",
       "Loan_Amount_Term     14\n",
       "Credit_History       50\n",
       "Property_Area         0\n",
       "Loan_Status           0\n",
       "dtype: int64"
      ]
     },
     "execution_count": 5,
     "metadata": {},
     "output_type": "execute_result"
    }
   ],
   "source": [
    "train.isnull().sum()"
   ]
  },
  {
   "cell_type": "markdown",
   "metadata": {},
   "source": [
    "There are missing values in our Dataset which we need to impute.\n",
    "We will use Mode for categorical Variables and Mean or Median for Numerical Variables"
   ]
  },
  {
   "cell_type": "code",
   "execution_count": 6,
   "metadata": {},
   "outputs": [],
   "source": [
    "train.Credit_History.fillna(train.Credit_History.mode()[0],inplace=True)\n",
    "train.Self_Employed.fillna(train.Self_Employed.mode()[0],inplace=True)\n",
    "train.Married.fillna(train.Married.mode()[0],inplace=True)\n",
    "train.Gender.fillna(train.Gender.mode()[0],inplace=True)\n",
    "train.Dependents.fillna(train.Dependents.mode()[0],inplace=True)\n",
    "train.LoanAmount.fillna(train.LoanAmount.median(),inplace=True)\n",
    "train.Loan_Amount_Term.fillna(train.Loan_Amount_Term.mode()[0],inplace=True)"
   ]
  },
  {
   "cell_type": "code",
   "execution_count": 15,
   "metadata": {},
   "outputs": [
    {
     "data": {
      "text/plain": [
       "Loan_ID                 0\n",
       "Gender                  0\n",
       "Married                 0\n",
       "Dependents              0\n",
       "Education               0\n",
       "Self_Employed           0\n",
       "ApplicantIncome         0\n",
       "CoapplicantIncome       0\n",
       "LoanAmount              0\n",
       "Loan_Amount_Term        0\n",
       "Credit_History          0\n",
       "Property_Area           0\n",
       "Loan_Status             0\n",
       "Applicantincomelog      0\n",
       "CoApplicantincomelog    0\n",
       "dtype: int64"
      ]
     },
     "execution_count": 15,
     "metadata": {},
     "output_type": "execute_result"
    }
   ],
   "source": [
    "train.isnull().sum()"
   ]
  },
  {
   "cell_type": "markdown",
   "metadata": {},
   "source": [
    "Now our Dataset is not having missing values"
   ]
  },
  {
   "cell_type": "code",
   "execution_count": 8,
   "metadata": {},
   "outputs": [],
   "source": [
    "Data_Cleaned=train.copy()"
   ]
  },
  {
   "cell_type": "markdown",
   "metadata": {},
   "source": [
    "# Univariate Data Analysis"
   ]
  },
  {
   "cell_type": "code",
   "execution_count": 9,
   "metadata": {},
   "outputs": [
    {
     "data": {
      "image/png": "[encoded data removed]",
      "text/plain": [
       "<Figure size 432x288 with 1 Axes>"
      ]
     },
     "metadata": {},
     "output_type": "display_data"
    }
   ],
   "source": [
    "sns.countplot(x='Loan_Status',data=train)\n",
    "plt.title('Occurences of Loan Given')\n",
    "plt.show()"
   ]
  },
  {
   "cell_type": "markdown",
   "metadata": {},
   "source": [
    "Approximatly 400 Loan applications are accepted and 170 Loan applications are rejected."
   ]
  },
  {
   "cell_type": "code",
   "execution_count": 10,
   "metadata": {},
   "outputs": [
    {
     "data": {
      "image/png": "[encoded data removed]",
      "text/plain": [
       "<Figure size 432x288 with 1 Axes>"
      ]
     },
     "metadata": {},
     "output_type": "display_data"
    }
   ],
   "source": [
    "sns.countplot(x='Credit_History',data=train)\n",
    "plt.title('Credit History of Loan applicants')\n",
    "plt.show()"
   ]
  },
  {
   "cell_type": "markdown",
   "metadata": {},
   "source": [
    "Only Very Few people do not have any credit history"
   ]
  },
  {
   "cell_type": "code",
   "execution_count": 11,
   "metadata": {},
   "outputs": [
    {
     "data": {
      "image/png": "[encoded data removed]",
      "text/plain": [
       "<Figure size 1152x1152 with 6 Axes>"
      ]
     },
     "metadata": {},
     "output_type": "display_data"
    }
   ],
   "source": [
    "plt.figure(1,figsize=(16,16))\n",
    "plt.subplot(321)\n",
    "ax=sns.countplot(x='Gender',data=train,palette='Set1')\n",
    "plt.title( 'Loan Applicants Based on Gender')\n",
    "\n",
    "plt.subplot(322)\n",
    "sns.countplot(x='Married',data=train,palette='Set1_r')\n",
    "plt.title( 'Loan Applicants based on Marrige Status')\n",
    "\n",
    "plt.subplot(323)\n",
    "sns.countplot(x='Self_Employed',data=train,palette='Set2')\n",
    "plt.title( 'Loan Applicants based on Employment')\n",
    "\n",
    "plt.subplot(324)\n",
    "sns.countplot(x='Dependents',data=train,palette='Set2_r')\n",
    "plt.title( 'Loan Applicants based on Dependents')\n",
    "\n",
    "plt.subplot(325)\n",
    "sns.countplot(x='Property_Area',data=train,palette='RdBu')\n",
    "plt.title('Property Area details of Loan applicants')\n",
    "\n",
    "plt.subplot(326)\n",
    "sns.countplot(x='Education',data=train,palette='BrBG')\n",
    "plt.title('Education details of Loan applicants')\n",
    "\n",
    "plt.show()"
   ]
  },
  {
   "cell_type": "markdown",
   "metadata": {},
   "source": [
    "Men are Applying  loans more then Women..."
   ]
  },
  {
   "cell_type": "markdown",
   "metadata": {},
   "source": [
    "Married people applying  loans more than unmarried people..."
   ]
  },
  {
   "cell_type": "markdown",
   "metadata": {},
   "source": [
    "Self employed people applying loans fewer than un employed or Private Job Holders..."
   ]
  },
  {
   "cell_type": "markdown",
   "metadata": {},
   "source": [
    "Majority of people applying for loans do not have any dependents..."
   ]
  },
  {
   "cell_type": "markdown",
   "metadata": {},
   "source": [
    "Majority of Job applicants own Propety in Semi Urban area but there is no significant difference in rest of them..."
   ]
  },
  {
   "cell_type": "markdown",
   "metadata": {},
   "source": [
    "Majority of Job Applicants are Graduates..."
   ]
  },
  {
   "cell_type": "code",
   "execution_count": 12,
   "metadata": {},
   "outputs": [
    {
     "data": {
      "image/png": "[encoded data removed]",
      "text/plain": [
       "<Figure size 1152x360 with 2 Axes>"
      ]
     },
     "metadata": {},
     "output_type": "display_data"
    }
   ],
   "source": [
    "plt.figure(1)\n",
    "plt.subplot(121)\n",
    "sns.distplot(train['ApplicantIncome']);\n",
    "\n",
    "plt.subplot(122)\n",
    "train['ApplicantIncome'].plot.box(figsize=(16,5))\n",
    "\n",
    "plt.show()"
   ]
  },
  {
   "cell_type": "markdown",
   "metadata": {},
   "source": [
    "Applicant Income seems having Negative Symmetry of Distribution and may have Outliers. Lets take Log transaformation"
   ]
  },
  {
   "cell_type": "code",
   "execution_count": 13,
   "metadata": {},
   "outputs": [
    {
     "data": {
      "image/png": "[encoded data removed]",
      "text/plain": [
       "<Figure size 1152x360 with 2 Axes>"
      ]
     },
     "metadata": {},
     "output_type": "display_data"
    }
   ],
   "source": [
    "train['Applicantincomelog']=np.log(train.ApplicantIncome)\n",
    "plt.figure(1)\n",
    "plt.subplot(121)\n",
    "sns.distplot(train['Applicantincomelog']);\n",
    "\n",
    "plt.subplot(122)\n",
    "train['Applicantincomelog'].plot.box(figsize=(16,5))\n",
    "\n",
    "plt.show()"
   ]
  },
  {
   "cell_type": "code",
   "execution_count": 15,
   "metadata": {},
   "outputs": [
    {
     "data": {
      "image/png": "[encoded data removed]",
      "text/plain": [
       "<Figure size 1152x360 with 2 Axes>"
      ]
     },
     "metadata": {},
     "output_type": "display_data"
    }
   ],
   "source": [
    "plt.figure(1)\n",
    "plt.subplot(121)\n",
    "sns.distplot(train['CoapplicantIncome']);\n",
    "\n",
    "plt.subplot(122)\n",
    "train['CoapplicantIncome'].plot.box(figsize=(16,5))\n",
    "\n",
    "plt.show()"
   ]
  },
  {
   "cell_type": "markdown",
   "metadata": {},
   "source": [
    "Co Applicant Income seems having Negative Symmetry of Distribution and Bi Modal Peak and may have Outliers."
   ]
  },
  {
   "cell_type": "code",
   "execution_count": 17,
   "metadata": {},
   "outputs": [
    {
     "data": {
      "image/png": "[encoded data removed]",
      "text/plain": [
       "<Figure size 1152x360 with 2 Axes>"
      ]
     },
     "metadata": {},
     "output_type": "display_data"
    }
   ],
   "source": [
    "plt.figure(1)\n",
    "plt.subplot(121)\n",
    "sns.distplot(train['LoanAmount'],color='b');\n",
    "\n",
    "plt.subplot(122)\n",
    "train['LoanAmount'].plot.box(figsize=(16,5),color='y')\n",
    "\n",
    "plt.show()"
   ]
  },
  {
   "cell_type": "markdown",
   "metadata": {},
   "source": [
    "Loan Amount seems having Negative Symmetry of Distribution "
   ]
  },
  {
   "cell_type": "markdown",
   "metadata": {},
   "source": [
    "# BiVariate Analysis"
   ]
  },
  {
   "cell_type": "code",
   "execution_count": 18,
   "metadata": {},
   "outputs": [
    {
     "data": {
      "image/png": "[encoded data removed]",
      "text/plain": [
       "<Figure size 288x288 with 1 Axes>"
      ]
     },
     "metadata": {},
     "output_type": "display_data"
    }
   ],
   "source": [
    "Gender=pd.crosstab(train['Gender'],train['Loan_Status'])\n",
    "Gender.div(Gender.sum(1).astype(float), axis=0).plot(kind=\"bar\", stacked=True, figsize=(4,4))\n",
    "plt.show()"
   ]
  },
  {
   "cell_type": "markdown",
   "metadata": {},
   "source": [
    "Loan Status and Gender does not have significant Co relation"
   ]
  },
  {
   "cell_type": "code",
   "execution_count": 19,
   "metadata": {},
   "outputs": [
    {
     "data": {
      "image/png": "[encoded data removed]",
      "text/plain": [
       "<Figure size 288x288 with 1 Axes>"
      ]
     },
     "metadata": {},
     "output_type": "display_data"
    }
   ],
   "source": [
    "Marriage=pd.crosstab(train['Married'],train['Loan_Status'])\n",
    "Marriage.div(Marriage.sum(1).astype(float), axis=0).plot(kind=\"bar\", stacked=True, figsize=(4,4))\n",
    "plt.show()"
   ]
  },
  {
   "cell_type": "markdown",
   "metadata": {},
   "source": [
    "Loan Status and Marriage does not have any significant Co relation, At Begining we had hypothesis that Loan acceptance  for Married people may be high  Now we Reject Null Hypothesis"
   ]
  },
  {
   "cell_type": "code",
   "execution_count": 20,
   "metadata": {},
   "outputs": [
    {
     "data": {
      "image/png": "[encoded data removed]",
      "text/plain": [
       "<Figure size 288x288 with 1 Axes>"
      ]
     },
     "metadata": {},
     "output_type": "display_data"
    }
   ],
   "source": [
    "Dep=pd.crosstab(train['Dependents'],train['Loan_Status'])\n",
    "Dep.div(Dep.sum(1).astype(float), axis=0).plot(kind=\"bar\", stacked=True, figsize=(4,4))\n",
    "plt.show()"
   ]
  },
  {
   "cell_type": "markdown",
   "metadata": {},
   "source": [
    "There is slight Co  Relation between Loan status and Dependents. If number of dependents are low than chances of loan approval are high"
   ]
  },
  {
   "cell_type": "code",
   "execution_count": 21,
   "metadata": {},
   "outputs": [
    {
     "data": {
      "image/png": "[encoded data removed]",
      "text/plain": [
       "<Figure size 288x288 with 1 Axes>"
      ]
     },
     "metadata": {},
     "output_type": "display_data"
    }
   ],
   "source": [
    "Emp=pd.crosstab(train['Self_Employed'],train['Loan_Status'])\n",
    "Emp.div(Emp.sum(1).astype(float), axis=0).plot(kind=\"bar\", stacked=True, figsize=(4,4))\n",
    "plt.show()"
   ]
  },
  {
   "cell_type": "markdown",
   "metadata": {},
   "source": [
    "Loan Status does not have any significant Co Relation with Employment "
   ]
  },
  {
   "cell_type": "code",
   "execution_count": 22,
   "metadata": {},
   "outputs": [
    {
     "data": {
      "image/png": "[encoded data removed]",
      "text/plain": [
       "<Figure size 288x288 with 1 Axes>"
      ]
     },
     "metadata": {},
     "output_type": "display_data"
    }
   ],
   "source": [
    "Edu=pd.crosstab(train['Education'],train['Loan_Status'])\n",
    "Edu.div(Edu.sum(1).astype(float), axis=0).plot(kind=\"bar\", stacked=True, figsize=(4,4))\n",
    "plt.show()"
   ]
  },
  {
   "cell_type": "markdown",
   "metadata": {},
   "source": [
    "There is slight co relation between Loan status and Education. Graduates are having good chances of loan approval. "
   ]
  },
  {
   "cell_type": "markdown",
   "metadata": {},
   "source": [
    "At begining we had Hypothesis that Educated people have more chances of Loan approval. Now we It proves true so we are accepting Null Hypothesis"
   ]
  },
  {
   "cell_type": "code",
   "execution_count": 23,
   "metadata": {},
   "outputs": [
    {
     "data": {
      "image/png": "[encoded data removed]",
      "text/plain": [
       "<Figure size 288x288 with 1 Axes>"
      ]
     },
     "metadata": {},
     "output_type": "display_data"
    }
   ],
   "source": [
    "Cre=pd.crosstab(train['Credit_History'],train['Loan_Status'])\n",
    "Cre.div(Cre.sum(1).astype(float), axis=0).plot(kind=\"bar\", stacked=True, figsize=(4,4))\n",
    "plt.show()"
   ]
  },
  {
   "cell_type": "markdown",
   "metadata": {},
   "source": [
    "There is Strong Co Relation between Loan status and Credit history, With Good credit history Loan acceptance chances are very high"
   ]
  },
  {
   "cell_type": "markdown",
   "metadata": {},
   "source": [
    "At begining we had Hypothesisthat Credit History plays important role in Loan acceptance. Now it proved True so we are accepting Null Hypothesis"
   ]
  },
  {
   "cell_type": "code",
   "execution_count": 24,
   "metadata": {},
   "outputs": [
    {
     "data": {
      "image/png": "[encoded data removed]",
      "text/plain": [
       "<Figure size 288x288 with 1 Axes>"
      ]
     },
     "metadata": {},
     "output_type": "display_data"
    }
   ],
   "source": [
    "Pro=pd.crosstab(train['Property_Area'],train['Loan_Status'])\n",
    "Pro.div(Pro.sum(1).astype(float), axis=0).plot(kind=\"bar\", stacked=True, figsize=(4,4))\n",
    "plt.show()"
   ]
  },
  {
   "cell_type": "markdown",
   "metadata": {},
   "source": [
    "There is slight Co Relation between Loan status and Property Area. Having Property area in Semi urban and urban are can get you more chances of loan approval"
   ]
  },
  {
   "cell_type": "code",
   "execution_count": 25,
   "metadata": {},
   "outputs": [
    {
     "data": {
      "image/png": "[encoded data removed]",
      "text/plain": [
       "<Figure size 288x288 with 1 Axes>"
      ]
     },
     "metadata": {},
     "output_type": "display_data"
    }
   ],
   "source": [
    "Bins=[0,2000,5000,20000,80000]\n",
    "grps=['Low','Average','High','Very High']\n",
    "train['ApplicantIncomeCategory']=pd.cut(train.ApplicantIncome,Bins,labels=grps)\n",
    "Ic=pd.crosstab(train['ApplicantIncomeCategory'],train['Loan_Status'])\n",
    "Ic.div(Ic.sum(1).astype(float), axis=0).plot(kind=\"bar\", stacked=True, figsize=(4,4))\n",
    "plt.show()"
   ]
  },
  {
   "cell_type": "markdown",
   "metadata": {},
   "source": [
    "There is No  Co relation Between Loan status and Applicant Income At begining we had Hypotheis that Chances of Loan acceptance is high for people with more income...\n",
    "Lets analyze Co applicant Income and then come to Clonslusion"
   ]
  },
  {
   "cell_type": "code",
   "execution_count": 26,
   "metadata": {},
   "outputs": [
    {
     "data": {
      "image/png": "[encoded data removed]",
      "text/plain": [
       "<Figure size 288x288 with 1 Axes>"
      ]
     },
     "metadata": {},
     "output_type": "display_data"
    }
   ],
   "source": [
    "Bins=[0,2000,5000,20000,80000]\n",
    "grps=['Low','Average','High','Very High']\n",
    "train['CoApplicantIncomeCategory']=pd.cut(train.CoapplicantIncome,Bins,labels=grps)\n",
    "CIc=pd.crosstab(train['CoApplicantIncomeCategory'],train['Loan_Status'])\n",
    "CIc.div(CIc.sum(1).astype(float), axis=0).plot(kind=\"bar\", stacked=True, figsize=(4,4))\n",
    "plt.show()"
   ]
  },
  {
   "cell_type": "markdown",
   "metadata": {},
   "source": [
    "There is Strong Co  Relation ship between Co applicant Income and Loan status. Surprisingly If Co applicant income is high than Chances of Loan approval are very low. This seems suspicious. Let;s analyze Applicant income and Co applicant income together"
   ]
  },
  {
   "cell_type": "code",
   "execution_count": 27,
   "metadata": {},
   "outputs": [
    {
     "data": {
      "image/png": "[encoded data removed]",
      "text/plain": [
       "<Figure size 288x288 with 1 Axes>"
      ]
     },
     "metadata": {},
     "output_type": "display_data"
    }
   ],
   "source": [
    "Bins=[0,2000,5000,20000,80000]\n",
    "train['CombinedIncome']=train.ApplicantIncome+train.CoapplicantIncome\n",
    "grps=['Low','Average','High','Very High']\n",
    "train['CombinedIncomeGrps']=pd.cut(train.CombinedIncome,Bins,labels=grps)\n",
    "Tc=pd.crosstab(train['CombinedIncomeGrps'],train['Loan_Status'])\n",
    "Tc.div(Tc.sum(1).astype(float), axis=0).plot(kind=\"bar\", stacked=True, figsize=(4,4))\n",
    "plt.show()"
   ]
  },
  {
   "cell_type": "markdown",
   "metadata": {},
   "source": [
    "There is Strong Relationship between Total Income and Loan status"
   ]
  },
  {
   "cell_type": "code",
   "execution_count": 28,
   "metadata": {},
   "outputs": [
    {
     "data": {
      "image/png": "[encoded data removed]",
      "text/plain": [
       "<Figure size 288x288 with 1 Axes>"
      ]
     },
     "metadata": {},
     "output_type": "display_data"
    }
   ],
   "source": [
    "Bins=[0,100,200,700]\n",
    "groups=['Low','Average','High']\n",
    "train['LoanAmntCategory']=pd.cut(train.LoanAmount,Bins,labels=groups)\n",
    "Lam=pd.crosstab(train['LoanAmntCategory'],train['Loan_Status'])\n",
    "Lam.div(Lam.sum(1).astype(float), axis=0).plot(kind=\"bar\", stacked=True, figsize=(4,4))\n",
    "plt.show()"
   ]
  },
  {
   "cell_type": "markdown",
   "metadata": {},
   "source": [
    "There is slight Co relation between Loan amount and Loan status. If Loan amount is high then Cahnces of loan approval are low."
   ]
  },
  {
   "cell_type": "markdown",
   "metadata": {},
   "source": [
    "At begining we had Hypotheis that  If loan amount is high then Loan acceptnce may be low, But now it proved True so we are accepting Null Hypotheis"
   ]
  },
  {
   "cell_type": "code",
   "execution_count": 29,
   "metadata": {},
   "outputs": [],
   "source": [
    "#Now lets get rid of temporary variables and have Discrete values at Loan status\n",
    "train=train.drop(['ApplicantIncomeCategory','CoApplicantIncomeCategory','CombinedIncomeGrps','LoanAmntCategory','CombinedIncome','ApplicantIncome','CoApplicantincomelog'],axis=1)\n",
    "train.Dependents.replace('3+',3,inplace=True)\n",
    "train.Loan_Status.replace('Y',1,inplace=True)\n",
    "train.Loan_Status.replace('N',0,inplace=True)"
   ]
  },
  {
   "cell_type": "code",
   "execution_count": 38,
   "metadata": {},
   "outputs": [],
   "source": [
    "Data_Copy2=train.copy()"
   ]
  },
  {
   "cell_type": "markdown",
   "metadata": {},
   "source": [
    "# Building Model"
   ]
  },
  {
   "cell_type": "code",
   "execution_count": 41,
   "metadata": {},
   "outputs": [],
   "source": [
    "X=train.drop(['Loan_Status','Loan_ID'],axis=1)\n",
    "y=train.Loan_Status\n",
    "X=pd.get_dummies(X)\n",
    "Data_Dummy_Vars=X.copy()"
   ]
  },
  {
   "cell_type": "markdown",
   "metadata": {},
   "source": [
    "First Let's Try Logistics Regression for our Binominal Classification Problem"
   ]
  },
  {
   "cell_type": "markdown",
   "metadata": {},
   "source": [
    "Let's take Classfication report and Precision Recall curve and AUC Curve for our Model Evaluation"
   ]
  },
  {
   "cell_type": "code",
   "execution_count": 42,
   "metadata": {},
   "outputs": [
    {
     "name": "stdout",
     "output_type": "stream",
     "text": [
      "Confusion Matrix:\n",
      "[[ 20  23]\n",
      " [  2 109]]\n",
      "Accuracy Score: 0.8376623376623377\n",
      "             precision    recall  f1-score   support\n",
      "\n",
      "          0       0.91      0.47      0.62        43\n",
      "          1       0.83      0.98      0.90       111\n",
      "\n",
      "avg / total       0.85      0.84      0.82       154\n",
      "\n",
      "Sensititvity: 0.46511627906976744\n",
      "Specificity: 0.018018018018018018\n",
      "Log Loss: 5.607063640348453\n"
     ]
    },
    {
     "data": {
      "text/plain": [
       "Text(0.5,1,'AUC Curve')"
      ]
     },
     "execution_count": 42,
     "metadata": {},
     "output_type": "execute_result"
    },
    {
     "data": {
      "image/png": "[encoded data removed]",
      "text/plain": [
       "<Figure size 432x288 with 2 Axes>"
      ]
     },
     "metadata": {},
     "output_type": "display_data"
    }
   ],
   "source": [
    "X_train,X_test,y_train,y_test=train_test_split(X,y,test_size=0.25,random_state=0)\n",
    "Regression=LogisticRegression(C=1)\n",
    "Regression.fit(X_train,y_train)\n",
    "Y_pred=Regression.predict(X_test)\n",
    "print('Confusion Matrix:')\n",
    "print(confusion_matrix(y_test,Y_pred))\n",
    "print('Accuracy Score:',accuracy_score(y_test,Y_pred))\n",
    "print(classification_report(y_test,Y_pred))\n",
    "cm=confusion_matrix(y_test,Y_pred)\n",
    "print('Sensititvity:',cm[0,0]/(cm[0,0]+cm[0,1]))\n",
    "print('Specificity:',cm[1,0]/(cm[1,0]+cm[1,1]))\n",
    "print('Log Loss:',log_loss(y_test,Y_pred))\n",
    "\n",
    "#Precision recall curve\n",
    "plt.subplot(121)\n",
    "precision, recall, thresholds = precision_recall_curve(y_test, Y_pred)\n",
    "plt.plot(precision, recall, label='Precision-recall curve')\n",
    "plt.xlabel('Precision')\n",
    "plt.ylabel('Recall')\n",
    "plt.title('Precision-recall curve')\n",
    "plt.legend(loc=\"lower left\")\n",
    "\n",
    "#AUC\n",
    "plt.subplot(122)\n",
    "fpr,tpr,threshold=metrics.roc_curve(y_test,Y_pred)\n",
    "metrics.auc(fpr,tpr)\n",
    "plt.plot(fpr,tpr)\n",
    "plt.title('AUC Curve')"
   ]
  },
  {
   "cell_type": "markdown",
   "metadata": {},
   "source": [
    "Al though Accuracy seems better Our Model Recall score is bad at Negative ones as ther is problem in False Negatives as Model  incorrectly classifying Positive ones as Negative"
   ]
  },
  {
   "cell_type": "markdown",
   "metadata": {},
   "source": [
    "Let's Implement Grid Search for Best Parameters"
   ]
  },
  {
   "cell_type": "code",
   "execution_count": 43,
   "metadata": {},
   "outputs": [
    {
     "name": "stdout",
     "output_type": "stream",
     "text": [
      "Fitting 5 folds for each of 20 candidates, totalling 100 fits\n",
      "[CV] C=0.1, solver=newton-cg .........................................\n",
      "[CV] ................ C=0.1, solver=newton-cg, score=0.827957 -   0.0s\n",
      "[CV] C=0.1, solver=newton-cg .........................................\n",
      "[CV] ................ C=0.1, solver=newton-cg, score=0.804348 -   0.0s\n",
      "[CV] C=0.1, solver=newton-cg .........................................\n",
      "[CV] ................ C=0.1, solver=newton-cg, score=0.782609 -   0.0s\n"
     ]
    },
    {
     "name": "stderr",
     "output_type": "stream",
     "text": [
      "[Parallel(n_jobs=1)]: Done   1 out of   1 | elapsed:    0.0s remaining:    0.0s\n",
      "[Parallel(n_jobs=1)]: Done   2 out of   2 | elapsed:    0.0s remaining:    0.0s\n",
      "[Parallel(n_jobs=1)]: Done   3 out of   3 | elapsed:    0.1s remaining:    0.0s\n",
      "[Parallel(n_jobs=1)]: Done   4 out of   4 | elapsed:    0.1s remaining:    0.0s\n"
     ]
    },
    {
     "name": "stdout",
     "output_type": "stream",
     "text": [
      "[CV] C=0.1, solver=newton-cg .........................................\n",
      "[CV] ................ C=0.1, solver=newton-cg, score=0.739130 -   0.0s\n",
      "[CV] C=0.1, solver=newton-cg .........................................\n",
      "[CV] ................ C=0.1, solver=newton-cg, score=0.824176 -   0.0s\n",
      "[CV] C=0.1, solver=lbfgs .............................................\n",
      "[CV] .................... C=0.1, solver=lbfgs, score=0.827957 -   0.0s\n",
      "[CV] C=0.1, solver=lbfgs .............................................\n",
      "[CV] .................... C=0.1, solver=lbfgs, score=0.804348 -   0.0s\n",
      "[CV] C=0.1, solver=lbfgs .............................................\n"
     ]
    },
    {
     "name": "stderr",
     "output_type": "stream",
     "text": [
      "[Parallel(n_jobs=1)]: Done   5 out of   5 | elapsed:    0.2s remaining:    0.0s\n",
      "[Parallel(n_jobs=1)]: Done   6 out of   6 | elapsed:    0.3s remaining:    0.0s\n",
      "[Parallel(n_jobs=1)]: Done   7 out of   7 | elapsed:    0.3s remaining:    0.0s\n",
      "[Parallel(n_jobs=1)]: Done   8 out of   8 | elapsed:    0.3s remaining:    0.0s\n",
      "[Parallel(n_jobs=1)]: Done   9 out of   9 | elapsed:    0.4s remaining:    0.0s\n"
     ]
    },
    {
     "name": "stdout",
     "output_type": "stream",
     "text": [
      "[CV] .................... C=0.1, solver=lbfgs, score=0.739130 -   0.0s\n",
      "[CV] C=0.1, solver=lbfgs .............................................\n",
      "[CV] .................... C=0.1, solver=lbfgs, score=0.739130 -   0.0s\n",
      "[CV] C=0.1, solver=lbfgs .............................................\n",
      "[CV] .................... C=0.1, solver=lbfgs, score=0.813187 -   0.0s\n",
      "[CV] C=0.1, solver=liblinear .........................................\n",
      "[CV] ................ C=0.1, solver=liblinear, score=0.827957 -   0.0s\n",
      "[CV] C=0.1, solver=liblinear .........................................\n",
      "[CV] ................ C=0.1, solver=liblinear, score=0.804348 -   0.0s\n",
      "[CV] C=0.1, solver=liblinear .........................................\n",
      "[CV] ................ C=0.1, solver=liblinear, score=0.782609 -   0.0s\n",
      "[CV] C=0.1, solver=liblinear .........................................\n",
      "[CV] ................ C=0.1, solver=liblinear, score=0.739130 -   0.0s\n",
      "[CV] C=0.1, solver=liblinear .........................................\n",
      "[CV] ................ C=0.1, solver=liblinear, score=0.824176 -   0.0s\n",
      "[CV] C=0.1, solver=sag ...............................................\n",
      "[CV] ...................... C=0.1, solver=sag, score=0.677419 -   0.0s\n",
      "[CV] C=0.1, solver=sag ...............................................\n",
      "[CV] ...................... C=0.1, solver=sag, score=0.673913 -   0.0s\n",
      "[CV] C=0.1, solver=sag ...............................................\n",
      "[CV] ...................... C=0.1, solver=sag, score=0.663043 -   0.0s\n",
      "[CV] C=0.1, solver=sag ...............................................\n",
      "[CV] ...................... C=0.1, solver=sag, score=0.673913 -   0.0s\n",
      "[CV] C=0.1, solver=sag ...............................................\n",
      "[CV] ...................... C=0.1, solver=sag, score=0.681319 -   0.0s\n",
      "[CV] C=0.001, solver=newton-cg .......................................\n",
      "[CV] .............. C=0.001, solver=newton-cg, score=0.677419 -   0.0s\n",
      "[CV] C=0.001, solver=newton-cg .......................................\n",
      "[CV] .............. C=0.001, solver=newton-cg, score=0.673913 -   0.0s\n",
      "[CV] C=0.001, solver=newton-cg .......................................\n",
      "[CV] .............. C=0.001, solver=newton-cg, score=0.663043 -   0.0s\n",
      "[CV] C=0.001, solver=newton-cg .......................................\n",
      "[CV] .............. C=0.001, solver=newton-cg, score=0.673913 -   0.0s\n",
      "[CV] C=0.001, solver=newton-cg .......................................\n",
      "[CV] .............. C=0.001, solver=newton-cg, score=0.681319 -   0.0s\n",
      "[CV] C=0.001, solver=lbfgs ...........................................\n",
      "[CV] .................. C=0.001, solver=lbfgs, score=0.677419 -   0.0s\n",
      "[CV] C=0.001, solver=lbfgs ...........................................\n",
      "[CV] .................. C=0.001, solver=lbfgs, score=0.673913 -   0.0s\n",
      "[CV] C=0.001, solver=lbfgs ...........................................\n",
      "[CV] .................. C=0.001, solver=lbfgs, score=0.663043 -   0.0s\n",
      "[CV] C=0.001, solver=lbfgs ...........................................\n",
      "[CV] .................. C=0.001, solver=lbfgs, score=0.673913 -   0.0s\n",
      "[CV] C=0.001, solver=lbfgs ...........................................\n",
      "[CV] .................. C=0.001, solver=lbfgs, score=0.681319 -   0.0s\n",
      "[CV] C=0.001, solver=liblinear .......................................\n",
      "[CV] .............. C=0.001, solver=liblinear, score=0.677419 -   0.0s\n",
      "[CV] C=0.001, solver=liblinear .......................................\n",
      "[CV] .............. C=0.001, solver=liblinear, score=0.673913 -   0.0s\n",
      "[CV] C=0.001, solver=liblinear .......................................\n",
      "[CV] .............. C=0.001, solver=liblinear, score=0.684783 -   0.0s\n",
      "[CV] C=0.001, solver=liblinear .......................................\n",
      "[CV] .............. C=0.001, solver=liblinear, score=0.673913 -   0.0s\n",
      "[CV] C=0.001, solver=liblinear .......................................\n",
      "[CV] .............. C=0.001, solver=liblinear, score=0.681319 -   0.0s\n",
      "[CV] C=0.001, solver=sag .............................................\n",
      "[CV] .................... C=0.001, solver=sag, score=0.677419 -   0.0s\n",
      "[CV] C=0.001, solver=sag .............................................\n",
      "[CV] .................... C=0.001, solver=sag, score=0.673913 -   0.0s\n",
      "[CV] C=0.001, solver=sag .............................................\n",
      "[CV] .................... C=0.001, solver=sag, score=0.673913 -   0.0s\n",
      "[CV] C=0.001, solver=sag .............................................\n",
      "[CV] .................... C=0.001, solver=sag, score=0.673913 -   0.0s\n",
      "[CV] C=0.001, solver=sag .............................................\n",
      "[CV] .................... C=0.001, solver=sag, score=0.681319 -   0.0s\n",
      "[CV] C=1, solver=newton-cg ...........................................\n",
      "[CV] .................. C=1, solver=newton-cg, score=0.827957 -   0.0s\n",
      "[CV] C=1, solver=newton-cg ...........................................\n",
      "[CV] .................. C=1, solver=newton-cg, score=0.815217 -   0.0s\n",
      "[CV] C=1, solver=newton-cg ...........................................\n",
      "[CV] .................. C=1, solver=newton-cg, score=0.804348 -   0.0s\n",
      "[CV] C=1, solver=newton-cg ...........................................\n",
      "[CV] .................. C=1, solver=newton-cg, score=0.739130 -   0.0s\n",
      "[CV] C=1, solver=newton-cg ...........................................\n",
      "[CV] .................. C=1, solver=newton-cg, score=0.835165 -   0.0s\n",
      "[CV] C=1, solver=lbfgs ...............................................\n",
      "[CV] ...................... C=1, solver=lbfgs, score=0.827957 -   0.0s\n",
      "[CV] C=1, solver=lbfgs ...............................................\n",
      "[CV] ...................... C=1, solver=lbfgs, score=0.826087 -   0.0s\n",
      "[CV] C=1, solver=lbfgs ...............................................\n",
      "[CV] ...................... C=1, solver=lbfgs, score=0.793478 -   0.0s\n",
      "[CV] C=1, solver=lbfgs ...............................................\n",
      "[CV] ...................... C=1, solver=lbfgs, score=0.739130 -   0.0s\n",
      "[CV] C=1, solver=lbfgs ...............................................\n",
      "[CV] ...................... C=1, solver=lbfgs, score=0.835165 -   0.0s\n",
      "[CV] C=1, solver=liblinear ...........................................\n",
      "[CV] .................. C=1, solver=liblinear, score=0.827957 -   0.0s\n",
      "[CV] C=1, solver=liblinear ...........................................\n",
      "[CV] .................. C=1, solver=liblinear, score=0.826087 -   0.0s\n",
      "[CV] C=1, solver=liblinear ...........................................\n",
      "[CV] .................. C=1, solver=liblinear, score=0.804348 -   0.0s\n",
      "[CV] C=1, solver=liblinear ...........................................\n",
      "[CV] .................. C=1, solver=liblinear, score=0.739130 -   0.0s\n",
      "[CV] C=1, solver=liblinear ...........................................\n",
      "[CV] .................. C=1, solver=liblinear, score=0.835165 -   0.0s\n",
      "[CV] C=1, solver=sag .................................................\n",
      "[CV] ........................ C=1, solver=sag, score=0.677419 -   0.0s\n",
      "[CV] C=1, solver=sag .................................................\n",
      "[CV] ........................ C=1, solver=sag, score=0.673913 -   0.0s\n",
      "[CV] C=1, solver=sag .................................................\n",
      "[CV] ........................ C=1, solver=sag, score=0.673913 -   0.0s\n",
      "[CV] C=1, solver=sag .................................................\n",
      "[CV] ........................ C=1, solver=sag, score=0.673913 -   0.0s\n",
      "[CV] C=1, solver=sag .................................................\n",
      "[CV] ........................ C=1, solver=sag, score=0.681319 -   0.0s\n",
      "[CV] C=10, solver=newton-cg ..........................................\n",
      "[CV] ................. C=10, solver=newton-cg, score=0.827957 -   0.0s\n",
      "[CV] C=10, solver=newton-cg ..........................................\n",
      "[CV] ................. C=10, solver=newton-cg, score=0.815217 -   0.0s\n",
      "[CV] C=10, solver=newton-cg ..........................................\n",
      "[CV] ................. C=10, solver=newton-cg, score=0.804348 -   0.0s\n",
      "[CV] C=10, solver=newton-cg ..........................................\n",
      "[CV] ................. C=10, solver=newton-cg, score=0.739130 -   0.1s\n",
      "[CV] C=10, solver=newton-cg ..........................................\n",
      "[CV] ................. C=10, solver=newton-cg, score=0.835165 -   0.0s\n",
      "[CV] C=10, solver=lbfgs ..............................................\n",
      "[CV] ..................... C=10, solver=lbfgs, score=0.827957 -   0.0s\n",
      "[CV] C=10, solver=lbfgs ..............................................\n",
      "[CV] ..................... C=10, solver=lbfgs, score=0.826087 -   0.0s\n",
      "[CV] C=10, solver=lbfgs ..............................................\n",
      "[CV] ..................... C=10, solver=lbfgs, score=0.804348 -   0.0s\n",
      "[CV] C=10, solver=lbfgs ..............................................\n",
      "[CV] ..................... C=10, solver=lbfgs, score=0.739130 -   0.0s\n",
      "[CV] C=10, solver=lbfgs ..............................................\n",
      "[CV] ..................... C=10, solver=lbfgs, score=0.835165 -   0.0s\n",
      "[CV] C=10, solver=liblinear ..........................................\n",
      "[CV] ................. C=10, solver=liblinear, score=0.827957 -   0.0s\n",
      "[CV] C=10, solver=liblinear ..........................................\n",
      "[CV] ................. C=10, solver=liblinear, score=0.826087 -   0.0s\n",
      "[CV] C=10, solver=liblinear ..........................................\n",
      "[CV] ................. C=10, solver=liblinear, score=0.804348 -   0.0s\n",
      "[CV] C=10, solver=liblinear ..........................................\n",
      "[CV] ................. C=10, solver=liblinear, score=0.739130 -   0.0s\n",
      "[CV] C=10, solver=liblinear ..........................................\n",
      "[CV] ................. C=10, solver=liblinear, score=0.835165 -   0.0s\n",
      "[CV] C=10, solver=sag ................................................\n",
      "[CV] ....................... C=10, solver=sag, score=0.677419 -   0.0s\n",
      "[CV] C=10, solver=sag ................................................\n"
     ]
    },
    {
     "name": "stdout",
     "output_type": "stream",
     "text": [
      "[CV] ....................... C=10, solver=sag, score=0.673913 -   0.0s\n",
      "[CV] C=10, solver=sag ................................................\n",
      "[CV] ....................... C=10, solver=sag, score=0.673913 -   0.0s\n",
      "[CV] C=10, solver=sag ................................................\n",
      "[CV] ....................... C=10, solver=sag, score=0.673913 -   0.0s\n",
      "[CV] C=10, solver=sag ................................................\n",
      "[CV] ....................... C=10, solver=sag, score=0.681319 -   0.0s\n",
      "[CV] C=100, solver=newton-cg .........................................\n",
      "[CV] ................ C=100, solver=newton-cg, score=0.827957 -   0.0s\n",
      "[CV] C=100, solver=newton-cg .........................................\n",
      "[CV] ................ C=100, solver=newton-cg, score=0.826087 -   0.0s\n",
      "[CV] C=100, solver=newton-cg .........................................\n",
      "[CV] ................ C=100, solver=newton-cg, score=0.804348 -   0.0s\n",
      "[CV] C=100, solver=newton-cg .........................................\n",
      "[CV] ................ C=100, solver=newton-cg, score=0.739130 -   0.0s\n",
      "[CV] C=100, solver=newton-cg .........................................\n",
      "[CV] ................ C=100, solver=newton-cg, score=0.835165 -   0.1s\n",
      "[CV] C=100, solver=lbfgs .............................................\n",
      "[CV] .................... C=100, solver=lbfgs, score=0.827957 -   0.0s\n",
      "[CV] C=100, solver=lbfgs .............................................\n",
      "[CV] .................... C=100, solver=lbfgs, score=0.826087 -   0.0s\n",
      "[CV] C=100, solver=lbfgs .............................................\n",
      "[CV] .................... C=100, solver=lbfgs, score=0.804348 -   0.0s\n",
      "[CV] C=100, solver=lbfgs .............................................\n",
      "[CV] .................... C=100, solver=lbfgs, score=0.739130 -   0.0s\n",
      "[CV] C=100, solver=lbfgs .............................................\n",
      "[CV] .................... C=100, solver=lbfgs, score=0.835165 -   0.0s\n",
      "[CV] C=100, solver=liblinear .........................................\n",
      "[CV] ................ C=100, solver=liblinear, score=0.827957 -   0.0s\n",
      "[CV] C=100, solver=liblinear .........................................\n",
      "[CV] ................ C=100, solver=liblinear, score=0.826087 -   0.0s\n",
      "[CV] C=100, solver=liblinear .........................................\n",
      "[CV] ................ C=100, solver=liblinear, score=0.815217 -   0.0s\n",
      "[CV] C=100, solver=liblinear .........................................\n",
      "[CV] ................ C=100, solver=liblinear, score=0.728261 -   0.0s\n",
      "[CV] C=100, solver=liblinear .........................................\n",
      "[CV] ................ C=100, solver=liblinear, score=0.835165 -   0.0s\n",
      "[CV] C=100, solver=sag ...............................................\n",
      "[CV] ...................... C=100, solver=sag, score=0.677419 -   0.0s\n",
      "[CV] C=100, solver=sag ...............................................\n",
      "[CV] ...................... C=100, solver=sag, score=0.673913 -   0.0s\n",
      "[CV] C=100, solver=sag ...............................................\n",
      "[CV] ...................... C=100, solver=sag, score=0.673913 -   0.0s\n",
      "[CV] C=100, solver=sag ...............................................\n",
      "[CV] ...................... C=100, solver=sag, score=0.673913 -   0.0s\n",
      "[CV] C=100, solver=sag ...............................................\n",
      "[CV] ...................... C=100, solver=sag, score=0.681319 -   0.0s\n",
      "{'C': 1, 'solver': 'liblinear'}\n",
      "0.8065217391304348\n"
     ]
    },
    {
     "name": "stderr",
     "output_type": "stream",
     "text": [
      "[Parallel(n_jobs=1)]: Done 100 out of 100 | elapsed:    4.4s finished\n"
     ]
    }
   ],
   "source": [
    "from sklearn import grid_search\n",
    "Regression=LogisticRegression(penalty='l2')\n",
    "parameters = {'C':[0.1,0.001,1,10,100],'solver': ['newton-cg', 'lbfgs', 'liblinear', 'sag']}\n",
    "GS = grid_search.GridSearchCV(Regression, parameters,cv=5,verbose=10)\n",
    "GS.fit(X_train,y_train)\n",
    "print (GS.best_params_ )\n",
    "print (GS.best_score_) "
   ]
  },
  {
   "cell_type": "markdown",
   "metadata": {},
   "source": [
    "Let's Implement  above parameters"
   ]
  },
  {
   "cell_type": "code",
   "execution_count": 84,
   "metadata": {},
   "outputs": [
    {
     "name": "stdout",
     "output_type": "stream",
     "text": [
      "Confusion Matrix:\n",
      "[[ 13  20]\n",
      " [  3 118]]\n",
      "Accuracy Score: 0.8506493506493507\n",
      "             precision    recall  f1-score   support\n",
      "\n",
      "          0       0.81      0.39      0.53        33\n",
      "          1       0.86      0.98      0.91       121\n",
      "\n",
      "avg / total       0.85      0.85      0.83       154\n",
      "\n",
      "Sensititvity: 0.3939393939393939\n",
      "Specificity: 0.024793388429752067\n",
      "Log Loss: 5.158492526178894\n"
     ]
    }
   ],
   "source": [
    "#['newton-cg', 'lbfgs', 'liblinear', 'sag'\n",
    "X_train,X_test,y_train,y_test=train_test_split(X,y,test_size=0.25,random_state=3)\n",
    "Regression=LogisticRegression(C=1,solver='liblinear',penalty='l2')\n",
    "Regression.fit(X_train,y_train)\n",
    "Y_pred=Regression.predict(X_test)\n",
    "print('Confusion Matrix:')\n",
    "print(confusion_matrix(y_test,Y_pred))\n",
    "print('Accuracy Score:',accuracy_score(y_test,Y_pred))\n",
    "print(classification_report(y_test,Y_pred))\n",
    "cm=confusion_matrix(y_test,Y_pred)\n",
    "print('Sensititvity:',cm[0,0]/(cm[0,0]+cm[0,1]))\n",
    "print('Specificity:',cm[1,0]/(cm[1,0]+cm[1,1]))\n",
    "print('Log Loss:',log_loss(y_test,Y_pred))"
   ]
  },
  {
   "cell_type": "markdown",
   "metadata": {},
   "source": [
    "Even Grid search did not give us Improvement. Lets use PCA To Extract Features"
   ]
  },
  {
   "cell_type": "code",
   "execution_count": 85,
   "metadata": {},
   "outputs": [],
   "source": [
    "from sklearn.decomposition import PCA\n",
    "pca=PCA(n_components=8)\n",
    "pca.fit(X_train)\n",
    "X_train=pca.transform(X_train)\n",
    "X_test=pca.transform(X_test)"
   ]
  },
  {
   "cell_type": "code",
   "execution_count": 87,
   "metadata": {},
   "outputs": [
    {
     "name": "stdout",
     "output_type": "stream",
     "text": [
      "Confusion Matrix:\n",
      "[[  5  28]\n",
      " [ 14 107]]\n",
      "Accuracy Score: 0.7272727272727273\n",
      "             precision    recall  f1-score   support\n",
      "\n",
      "          0       0.26      0.15      0.19        33\n",
      "          1       0.79      0.88      0.84       121\n",
      "\n",
      "avg / total       0.68      0.73      0.70       154\n",
      "\n",
      "Sensititvity: 0.15151515151515152\n",
      "Specificity: 0.11570247933884298\n",
      "Log Loss: 9.41981167087204\n"
     ]
    }
   ],
   "source": [
    "#X_train,X_test,y_train,y_test=train_test_split(X,y,test_size=0.25,random_state=0)\n",
    "Regression=LogisticRegression(C=1,solver='liblinear',penalty='l2')\n",
    "Regression.fit(X_train,y_train)\n",
    "Y_pred=Regression.predict(X_test)\n",
    "print('Confusion Matrix:')\n",
    "print(confusion_matrix(y_test,Y_pred))\n",
    "print('Accuracy Score:',accuracy_score(y_test,Y_pred))\n",
    "print(classification_report(y_test,Y_pred))\n",
    "cm=confusion_matrix(y_test,Y_pred)\n",
    "print('Sensititvity:',cm[0,0]/(cm[0,0]+cm[0,1]))\n",
    "print('Specificity:',cm[1,0]/(cm[1,0]+cm[1,1]))\n",
    "print('Log Loss:',log_loss(y_test,Y_pred))"
   ]
  },
  {
   "cell_type": "markdown",
   "metadata": {},
   "source": [
    "Even PCA Could not Impove the accuracy. How much we tried in Logistics regression not able to get more than 83% accuracy\n",
    "PCA did not help\n",
    "fine tuning c parameter did not help\n",
    "test size or random number did not help\n"
   ]
  },
  {
   "cell_type": "markdown",
   "metadata": {},
   "source": [
    "Let's Implememt Support Vecor machine Algorithm"
   ]
  },
  {
   "cell_type": "code",
   "execution_count": 98,
   "metadata": {},
   "outputs": [],
   "source": [
    "from sklearn import svm\n",
    "train=Data_Copy2.copy()\n",
    "X=train.drop(['Loan_Status','Loan_ID'],axis=1)\n",
    "y=train.Loan_Status\n",
    "X=pd.get_dummies(X)\n",
    "Data_Dummy_Vars=X.copy()"
   ]
  },
  {
   "cell_type": "markdown",
   "metadata": {},
   "source": [
    "We tried different kernels in SVM but Linear seems better. Poly was taking so much time to train the model and grid search for best parameters was running endlessly.\n",
    "So best option in SVM is below parameters"
   ]
  },
  {
   "cell_type": "code",
   "execution_count": 99,
   "metadata": {},
   "outputs": [
    {
     "name": "stdout",
     "output_type": "stream",
     "text": [
      "Confusion Matrix:\n",
      "[[ 13  20]\n",
      " [  5 116]]\n",
      "Accuracy Score: 0.8376623376623377\n",
      "             precision    recall  f1-score   support\n",
      "\n",
      "          0       0.72      0.39      0.51        33\n",
      "          1       0.85      0.96      0.90       121\n",
      "\n",
      "avg / total       0.82      0.84      0.82       154\n",
      "\n",
      "Sensititvity: 0.3939393939393939\n",
      "Specificity: 0.04132231404958678\n",
      "Log Loss: 5.607048063775137\n"
     ]
    }
   ],
   "source": [
    "X_train,X_test,y_train,y_test=train_test_split(X,y,test_size=0.25,random_state=3)\n",
    "model=svm.SVC(kernel='linear',C=1)\n",
    "model.fit(X_train,y_train)\n",
    "Y_pred=model.predict(X_test)\n",
    "print('Confusion Matrix:')\n",
    "print(confusion_matrix(y_test,Y_pred))\n",
    "print('Accuracy Score:',accuracy_score(y_test,Y_pred))\n",
    "print(classification_report(y_test,Y_pred))\n",
    "cm=confusion_matrix(y_test,Y_pred)\n",
    "print('Sensititvity:',cm[0,0]/(cm[0,0]+cm[0,1]))\n",
    "print('Specificity:',cm[1,0]/(cm[1,0]+cm[1,1]))\n",
    "print('Log Loss:',log_loss(y_test,Y_pred))"
   ]
  },
  {
   "cell_type": "markdown",
   "metadata": {},
   "source": [
    "Let's Try Gaussian Classifier from  Naive Bayes class"
   ]
  },
  {
   "cell_type": "code",
   "execution_count": 101,
   "metadata": {},
   "outputs": [
    {
     "name": "stdout",
     "output_type": "stream",
     "text": [
      "Confusion Matrix:\n",
      "[[ 13  20]\n",
      " [  4 117]]\n",
      "Accuracy Score: 0.8441558441558441\n",
      "             precision    recall  f1-score   support\n",
      "\n",
      "          0       0.76      0.39      0.52        33\n",
      "          1       0.85      0.97      0.91       121\n",
      "\n",
      "avg / total       0.83      0.84      0.82       154\n",
      "\n",
      "Sensititvity: 0.3939393939393939\n",
      "Specificity: 0.03305785123966942\n",
      "Log Loss: 5.382770294977016\n"
     ]
    }
   ],
   "source": [
    "from sklearn.naive_bayes import GaussianNB\n",
    "gnb = GaussianNB() \n",
    "gnb.fit(X_train, y_train)\n",
    "Y_pred=gnb.predict(X_test)\n",
    "print('Confusion Matrix:')\n",
    "print(confusion_matrix(y_test,Y_pred))\n",
    "print('Accuracy Score:',accuracy_score(y_test,Y_pred))\n",
    "print(classification_report(y_test,Y_pred))\n",
    "cm=confusion_matrix(y_test,Y_pred)\n",
    "print('Sensititvity:',cm[0,0]/(cm[0,0]+cm[0,1]))\n",
    "print('Specificity:',cm[1,0]/(cm[1,0]+cm[1,1]))\n",
    "print('Log Loss:',log_loss(y_test,Y_pred))"
   ]
  },
  {
   "cell_type": "code",
   "execution_count": 103,
   "metadata": {},
   "outputs": [
    {
     "name": "stdout",
     "output_type": "stream",
     "text": [
      "Confusion Matrix:\n",
      "[[ 16  17]\n",
      " [ 11 110]]\n",
      "Accuracy Score: 0.8181818181818182\n",
      "             precision    recall  f1-score   support\n",
      "\n",
      "          0       0.59      0.48      0.53        33\n",
      "          1       0.87      0.91      0.89       121\n",
      "\n",
      "avg / total       0.81      0.82      0.81       154\n",
      "\n",
      "Sensititvity: 0.48484848484848486\n",
      "Specificity: 0.09090909090909091\n",
      "Log Loss: 6.279865793596184\n"
     ]
    }
   ],
   "source": [
    "from sklearn.naive_bayes import BernoulliNB\n",
    "model=BernoulliNB()\n",
    "model.fit(X_train, y_train)\n",
    "Y_pred=model.predict(X_test)\n",
    "print('Confusion Matrix:')\n",
    "print(confusion_matrix(y_test,Y_pred))\n",
    "print('Accuracy Score:',accuracy_score(y_test,Y_pred))\n",
    "print(classification_report(y_test,Y_pred))\n",
    "cm=confusion_matrix(y_test,Y_pred)\n",
    "print('Sensititvity:',cm[0,0]/(cm[0,0]+cm[0,1]))\n",
    "print('Specificity:',cm[1,0]/(cm[1,0]+cm[1,1]))\n",
    "print('Log Loss:',log_loss(y_test,Y_pred))"
   ]
  },
  {
   "cell_type": "markdown",
   "metadata": {},
   "source": [
    "Let's Try Decision Tress Algortihm for our classification"
   ]
  },
  {
   "cell_type": "code",
   "execution_count": 122,
   "metadata": {},
   "outputs": [
    {
     "name": "stdout",
     "output_type": "stream",
     "text": [
      "Confusion Matrix:\n",
      "[[ 12  21]\n",
      " [  5 116]]\n",
      "Accuracy Score: 0.8311688311688312\n",
      "             precision    recall  f1-score   support\n",
      "\n",
      "          0       0.71      0.36      0.48        33\n",
      "          1       0.85      0.96      0.90       121\n",
      "\n",
      "avg / total       0.82      0.83      0.81       154\n",
      "\n",
      "Sensititvity: 0.36363636363636365\n",
      "Specificity: 0.04132231404958678\n",
      "Log Loss: 5.831331024764363\n"
     ]
    }
   ],
   "source": [
    "from sklearn import tree\n",
    "clf = tree.DecisionTreeClassifier(max_depth=5)\n",
    "clf.fit(X_train, y_train)\n",
    "Y_pred=clf.predict(X_test)\n",
    "print('Confusion Matrix:')\n",
    "print(confusion_matrix(y_test,Y_pred))\n",
    "print('Accuracy Score:',accuracy_score(y_test,Y_pred))\n",
    "print(classification_report(y_test,Y_pred))\n",
    "cm=confusion_matrix(y_test,Y_pred)\n",
    "print('Sensititvity:',cm[0,0]/(cm[0,0]+cm[0,1]))\n",
    "print('Specificity:',cm[1,0]/(cm[1,0]+cm[1,1]))\n",
    "print('Log Loss:',log_loss(y_test,Y_pred))"
   ]
  },
  {
   "cell_type": "markdown",
   "metadata": {},
   "source": [
    "Let's Try Our last method Random Forest Regression"
   ]
  },
  {
   "cell_type": "code",
   "execution_count": 123,
   "metadata": {},
   "outputs": [
    {
     "name": "stdout",
     "output_type": "stream",
     "text": [
      "Confusion Matrix:\n",
      "[[ 13  20]\n",
      " [  3 118]]\n",
      "Accuracy Score: 0.8506493506493507\n",
      "             precision    recall  f1-score   support\n",
      "\n",
      "          0       0.81      0.39      0.53        33\n",
      "          1       0.86      0.98      0.91       121\n",
      "\n",
      "avg / total       0.85      0.85      0.83       154\n",
      "\n",
      "Sensititvity: 0.3939393939393939\n",
      "Specificity: 0.024793388429752067\n",
      "Log Loss: 5.158492526178894\n"
     ]
    }
   ],
   "source": [
    "from sklearn.ensemble import RandomForestClassifier\n",
    "clf = RandomForestClassifier(n_estimators=100, max_depth=5,random_state=0)\n",
    "clf.fit(X_train, y_train)\n",
    "Y_pred=clf.predict(X_test)\n",
    "print('Confusion Matrix:')\n",
    "print(confusion_matrix(y_test,Y_pred))\n",
    "print('Accuracy Score:',accuracy_score(y_test,Y_pred))\n",
    "print(classification_report(y_test,Y_pred))\n",
    "cm=confusion_matrix(y_test,Y_pred)\n",
    "print('Sensititvity:',cm[0,0]/(cm[0,0]+cm[0,1]))\n",
    "print('Specificity:',cm[1,0]/(cm[1,0]+cm[1,1]))\n",
    "print('Log Loss:',log_loss(y_test,Y_pred))"
   ]
  },
  {
   "cell_type": "markdown",
   "metadata": {},
   "source": [
    "Thos one looks better so Let's Use Grid search for best parameters"
   ]
  },
  {
   "cell_type": "code",
   "execution_count": 128,
   "metadata": {},
   "outputs": [
    {
     "name": "stdout",
     "output_type": "stream",
     "text": [
      "Fitting 5 folds for each of 36 candidates, totalling 180 fits\n",
      "[CV] max_depth=4, n_estimators=50, random_state=0 ....................\n",
      "[CV]  max_depth=4, n_estimators=50, random_state=0, score=0.827957 -   0.0s\n",
      "[CV] max_depth=4, n_estimators=50, random_state=0 ....................\n"
     ]
    },
    {
     "name": "stderr",
     "output_type": "stream",
     "text": [
      "[Parallel(n_jobs=1)]: Done   1 out of   1 | elapsed:    0.0s remaining:    0.0s\n",
      "[Parallel(n_jobs=1)]: Done   2 out of   2 | elapsed:    0.1s remaining:    0.0s\n",
      "[Parallel(n_jobs=1)]: Done   3 out of   3 | elapsed:    0.2s remaining:    0.0s\n"
     ]
    },
    {
     "name": "stdout",
     "output_type": "stream",
     "text": [
      "[CV]  max_depth=4, n_estimators=50, random_state=0, score=0.771739 -   0.0s\n",
      "[CV] max_depth=4, n_estimators=50, random_state=0 ....................\n",
      "[CV]  max_depth=4, n_estimators=50, random_state=0, score=0.750000 -   0.0s\n",
      "[CV] max_depth=4, n_estimators=50, random_state=0 ....................\n",
      "[CV]  max_depth=4, n_estimators=50, random_state=0, score=0.804348 -   0.0s\n",
      "[CV] max_depth=4, n_estimators=50, random_state=0 ....................\n"
     ]
    },
    {
     "name": "stderr",
     "output_type": "stream",
     "text": [
      "[Parallel(n_jobs=1)]: Done   4 out of   4 | elapsed:    0.3s remaining:    0.0s\n",
      "[Parallel(n_jobs=1)]: Done   5 out of   5 | elapsed:    0.4s remaining:    0.0s\n"
     ]
    },
    {
     "name": "stdout",
     "output_type": "stream",
     "text": [
      "[CV]  max_depth=4, n_estimators=50, random_state=0, score=0.758242 -   0.0s\n",
      "[CV] max_depth=4, n_estimators=50, random_state=1 ....................\n",
      "[CV]  max_depth=4, n_estimators=50, random_state=1, score=0.838710 -   0.0s\n",
      "[CV] max_depth=4, n_estimators=50, random_state=1 ....................\n"
     ]
    },
    {
     "name": "stderr",
     "output_type": "stream",
     "text": [
      "[Parallel(n_jobs=1)]: Done   6 out of   6 | elapsed:    0.5s remaining:    0.0s\n",
      "[Parallel(n_jobs=1)]: Done   7 out of   7 | elapsed:    0.6s remaining:    0.0s\n",
      "[Parallel(n_jobs=1)]: Done   8 out of   8 | elapsed:    0.7s remaining:    0.0s\n"
     ]
    },
    {
     "name": "stdout",
     "output_type": "stream",
     "text": [
      "[CV]  max_depth=4, n_estimators=50, random_state=1, score=0.782609 -   0.0s\n",
      "[CV] max_depth=4, n_estimators=50, random_state=1 ....................\n",
      "[CV]  max_depth=4, n_estimators=50, random_state=1, score=0.771739 -   0.0s\n",
      "[CV] max_depth=4, n_estimators=50, random_state=1 ....................\n",
      "[CV]  max_depth=4, n_estimators=50, random_state=1, score=0.815217 -   0.0s\n",
      "[CV] max_depth=4, n_estimators=50, random_state=1 ....................\n"
     ]
    },
    {
     "name": "stderr",
     "output_type": "stream",
     "text": [
      "[Parallel(n_jobs=1)]: Done   9 out of   9 | elapsed:    0.8s remaining:    0.0s\n"
     ]
    },
    {
     "name": "stdout",
     "output_type": "stream",
     "text": [
      "[CV]  max_depth=4, n_estimators=50, random_state=1, score=0.769231 -   0.0s\n",
      "[CV] max_depth=4, n_estimators=50, random_state=3 ....................\n",
      "[CV]  max_depth=4, n_estimators=50, random_state=3, score=0.838710 -   0.0s\n",
      "[CV] max_depth=4, n_estimators=50, random_state=3 ....................\n",
      "[CV]  max_depth=4, n_estimators=50, random_state=3, score=0.782609 -   0.0s\n",
      "[CV] max_depth=4, n_estimators=50, random_state=3 ....................\n",
      "[CV]  max_depth=4, n_estimators=50, random_state=3, score=0.771739 -   0.0s\n",
      "[CV] max_depth=4, n_estimators=50, random_state=3 ....................\n",
      "[CV]  max_depth=4, n_estimators=50, random_state=3, score=0.815217 -   0.0s\n",
      "[CV] max_depth=4, n_estimators=50, random_state=3 ....................\n",
      "[CV]  max_depth=4, n_estimators=50, random_state=3, score=0.758242 -   0.0s\n",
      "[CV] max_depth=4, n_estimators=75, random_state=0 ....................\n",
      "[CV]  max_depth=4, n_estimators=75, random_state=0, score=0.838710 -   0.1s\n",
      "[CV] max_depth=4, n_estimators=75, random_state=0 ....................\n",
      "[CV]  max_depth=4, n_estimators=75, random_state=0, score=0.782609 -   0.0s\n",
      "[CV] max_depth=4, n_estimators=75, random_state=0 ....................\n",
      "[CV]  max_depth=4, n_estimators=75, random_state=0, score=0.771739 -   0.0s\n",
      "[CV] max_depth=4, n_estimators=75, random_state=0 ....................\n",
      "[CV]  max_depth=4, n_estimators=75, random_state=0, score=0.815217 -   0.0s\n",
      "[CV] max_depth=4, n_estimators=75, random_state=0 ....................\n",
      "[CV]  max_depth=4, n_estimators=75, random_state=0, score=0.758242 -   0.1s\n",
      "[CV] max_depth=4, n_estimators=75, random_state=1 ....................\n",
      "[CV]  max_depth=4, n_estimators=75, random_state=1, score=0.838710 -   0.0s\n",
      "[CV] max_depth=4, n_estimators=75, random_state=1 ....................\n",
      "[CV]  max_depth=4, n_estimators=75, random_state=1, score=0.782609 -   0.1s\n",
      "[CV] max_depth=4, n_estimators=75, random_state=1 ....................\n",
      "[CV]  max_depth=4, n_estimators=75, random_state=1, score=0.771739 -   0.0s\n",
      "[CV] max_depth=4, n_estimators=75, random_state=1 ....................\n",
      "[CV]  max_depth=4, n_estimators=75, random_state=1, score=0.815217 -   0.1s\n",
      "[CV] max_depth=4, n_estimators=75, random_state=1 ....................\n",
      "[CV]  max_depth=4, n_estimators=75, random_state=1, score=0.758242 -   0.1s\n",
      "[CV] max_depth=4, n_estimators=75, random_state=3 ....................\n",
      "[CV]  max_depth=4, n_estimators=75, random_state=3, score=0.838710 -   0.1s\n",
      "[CV] max_depth=4, n_estimators=75, random_state=3 ....................\n",
      "[CV]  max_depth=4, n_estimators=75, random_state=3, score=0.782609 -   0.0s\n",
      "[CV] max_depth=4, n_estimators=75, random_state=3 ....................\n",
      "[CV]  max_depth=4, n_estimators=75, random_state=3, score=0.771739 -   0.1s\n",
      "[CV] max_depth=4, n_estimators=75, random_state=3 ....................\n",
      "[CV]  max_depth=4, n_estimators=75, random_state=3, score=0.815217 -   0.0s\n",
      "[CV] max_depth=4, n_estimators=75, random_state=3 ....................\n",
      "[CV]  max_depth=4, n_estimators=75, random_state=3, score=0.758242 -   0.0s\n",
      "[CV] max_depth=4, n_estimators=100, random_state=0 ...................\n",
      "[CV]  max_depth=4, n_estimators=100, random_state=0, score=0.838710 -   0.1s\n",
      "[CV] max_depth=4, n_estimators=100, random_state=0 ...................\n",
      "[CV]  max_depth=4, n_estimators=100, random_state=0, score=0.782609 -   0.1s\n",
      "[CV] max_depth=4, n_estimators=100, random_state=0 ...................\n",
      "[CV]  max_depth=4, n_estimators=100, random_state=0, score=0.771739 -   0.1s\n",
      "[CV] max_depth=4, n_estimators=100, random_state=0 ...................\n",
      "[CV]  max_depth=4, n_estimators=100, random_state=0, score=0.815217 -   0.1s\n",
      "[CV] max_depth=4, n_estimators=100, random_state=0 ...................\n",
      "[CV]  max_depth=4, n_estimators=100, random_state=0, score=0.758242 -   0.1s\n",
      "[CV] max_depth=4, n_estimators=100, random_state=1 ...................\n",
      "[CV]  max_depth=4, n_estimators=100, random_state=1, score=0.838710 -   0.2s\n",
      "[CV] max_depth=4, n_estimators=100, random_state=1 ...................\n",
      "[CV]  max_depth=4, n_estimators=100, random_state=1, score=0.782609 -   0.2s\n",
      "[CV] max_depth=4, n_estimators=100, random_state=1 ...................\n",
      "[CV]  max_depth=4, n_estimators=100, random_state=1, score=0.771739 -   0.1s\n",
      "[CV] max_depth=4, n_estimators=100, random_state=1 ...................\n",
      "[CV]  max_depth=4, n_estimators=100, random_state=1, score=0.815217 -   0.1s\n",
      "[CV] max_depth=4, n_estimators=100, random_state=1 ...................\n",
      "[CV]  max_depth=4, n_estimators=100, random_state=1, score=0.758242 -   0.2s\n",
      "[CV] max_depth=4, n_estimators=100, random_state=3 ...................\n",
      "[CV]  max_depth=4, n_estimators=100, random_state=3, score=0.838710 -   0.1s\n",
      "[CV] max_depth=4, n_estimators=100, random_state=3 ...................\n",
      "[CV]  max_depth=4, n_estimators=100, random_state=3, score=0.782609 -   0.1s\n",
      "[CV] max_depth=4, n_estimators=100, random_state=3 ...................\n",
      "[CV]  max_depth=4, n_estimators=100, random_state=3, score=0.771739 -   0.2s\n",
      "[CV] max_depth=4, n_estimators=100, random_state=3 ...................\n",
      "[CV]  max_depth=4, n_estimators=100, random_state=3, score=0.815217 -   0.1s\n",
      "[CV] max_depth=4, n_estimators=100, random_state=3 ...................\n",
      "[CV]  max_depth=4, n_estimators=100, random_state=3, score=0.758242 -   0.1s\n",
      "[CV] max_depth=4, n_estimators=125, random_state=0 ...................\n",
      "[CV]  max_depth=4, n_estimators=125, random_state=0, score=0.838710 -   0.1s\n",
      "[CV] max_depth=4, n_estimators=125, random_state=0 ...................\n",
      "[CV]  max_depth=4, n_estimators=125, random_state=0, score=0.782609 -   0.1s\n",
      "[CV] max_depth=4, n_estimators=125, random_state=0 ...................\n",
      "[CV]  max_depth=4, n_estimators=125, random_state=0, score=0.771739 -   0.2s\n",
      "[CV] max_depth=4, n_estimators=125, random_state=0 ...................\n",
      "[CV]  max_depth=4, n_estimators=125, random_state=0, score=0.815217 -   0.1s\n",
      "[CV] max_depth=4, n_estimators=125, random_state=0 ...................\n",
      "[CV]  max_depth=4, n_estimators=125, random_state=0, score=0.758242 -   0.1s\n",
      "[CV] max_depth=4, n_estimators=125, random_state=1 ...................\n",
      "[CV]  max_depth=4, n_estimators=125, random_state=1, score=0.838710 -   0.1s\n",
      "[CV] max_depth=4, n_estimators=125, random_state=1 ...................\n",
      "[CV]  max_depth=4, n_estimators=125, random_state=1, score=0.782609 -   0.1s\n",
      "[CV] max_depth=4, n_estimators=125, random_state=1 ...................\n",
      "[CV]  max_depth=4, n_estimators=125, random_state=1, score=0.771739 -   0.1s\n",
      "[CV] max_depth=4, n_estimators=125, random_state=1 ...................\n",
      "[CV]  max_depth=4, n_estimators=125, random_state=1, score=0.826087 -   0.1s\n",
      "[CV] max_depth=4, n_estimators=125, random_state=1 ...................\n",
      "[CV]  max_depth=4, n_estimators=125, random_state=1, score=0.758242 -   0.1s\n",
      "[CV] max_depth=4, n_estimators=125, random_state=3 ...................\n",
      "[CV]  max_depth=4, n_estimators=125, random_state=3, score=0.838710 -   0.1s\n",
      "[CV] max_depth=4, n_estimators=125, random_state=3 ...................\n",
      "[CV]  max_depth=4, n_estimators=125, random_state=3, score=0.782609 -   0.1s\n",
      "[CV] max_depth=4, n_estimators=125, random_state=3 ...................\n",
      "[CV]  max_depth=4, n_estimators=125, random_state=3, score=0.771739 -   0.1s\n",
      "[CV] max_depth=4, n_estimators=125, random_state=3 ...................\n",
      "[CV]  max_depth=4, n_estimators=125, random_state=3, score=0.815217 -   0.2s\n",
      "[CV] max_depth=4, n_estimators=125, random_state=3 ...................\n",
      "[CV]  max_depth=4, n_estimators=125, random_state=3, score=0.758242 -   0.1s\n",
      "[CV] max_depth=5, n_estimators=50, random_state=0 ....................\n",
      "[CV]  max_depth=5, n_estimators=50, random_state=0, score=0.838710 -   0.0s\n",
      "[CV] max_depth=5, n_estimators=50, random_state=0 ....................\n",
      "[CV]  max_depth=5, n_estimators=50, random_state=0, score=0.771739 -   0.0s\n",
      "[CV] max_depth=5, n_estimators=50, random_state=0 ....................\n",
      "[CV]  max_depth=5, n_estimators=50, random_state=0, score=0.739130 -   0.0s\n",
      "[CV] max_depth=5, n_estimators=50, random_state=0 ....................\n",
      "[CV]  max_depth=5, n_estimators=50, random_state=0, score=0.793478 -   0.0s\n",
      "[CV] max_depth=5, n_estimators=50, random_state=0 ....................\n",
      "[CV]  max_depth=5, n_estimators=50, random_state=0, score=0.758242 -   0.0s\n",
      "[CV] max_depth=5, n_estimators=50, random_state=1 ....................\n",
      "[CV]  max_depth=5, n_estimators=50, random_state=1, score=0.827957 -   0.0s\n",
      "[CV] max_depth=5, n_estimators=50, random_state=1 ....................\n",
      "[CV]  max_depth=5, n_estimators=50, random_state=1, score=0.771739 -   0.0s\n",
      "[CV] max_depth=5, n_estimators=50, random_state=1 ....................\n"
     ]
    },
    {
     "name": "stdout",
     "output_type": "stream",
     "text": [
      "[CV]  max_depth=5, n_estimators=50, random_state=1, score=0.760870 -   0.0s\n",
      "[CV] max_depth=5, n_estimators=50, random_state=1 ....................\n",
      "[CV]  max_depth=5, n_estimators=50, random_state=1, score=0.836957 -   0.0s\n",
      "[CV] max_depth=5, n_estimators=50, random_state=1 ....................\n",
      "[CV]  max_depth=5, n_estimators=50, random_state=1, score=0.758242 -   0.0s\n",
      "[CV] max_depth=5, n_estimators=50, random_state=3 ....................\n",
      "[CV]  max_depth=5, n_estimators=50, random_state=3, score=0.817204 -   0.0s\n",
      "[CV] max_depth=5, n_estimators=50, random_state=3 ....................\n",
      "[CV]  max_depth=5, n_estimators=50, random_state=3, score=0.771739 -   0.0s\n",
      "[CV] max_depth=5, n_estimators=50, random_state=3 ....................\n",
      "[CV]  max_depth=5, n_estimators=50, random_state=3, score=0.739130 -   0.0s\n",
      "[CV] max_depth=5, n_estimators=50, random_state=3 ....................\n",
      "[CV]  max_depth=5, n_estimators=50, random_state=3, score=0.815217 -   0.0s\n",
      "[CV] max_depth=5, n_estimators=50, random_state=3 ....................\n",
      "[CV]  max_depth=5, n_estimators=50, random_state=3, score=0.758242 -   0.0s\n",
      "[CV] max_depth=5, n_estimators=75, random_state=0 ....................\n",
      "[CV]  max_depth=5, n_estimators=75, random_state=0, score=0.838710 -   0.1s\n",
      "[CV] max_depth=5, n_estimators=75, random_state=0 ....................\n",
      "[CV]  max_depth=5, n_estimators=75, random_state=0, score=0.771739 -   0.0s\n",
      "[CV] max_depth=5, n_estimators=75, random_state=0 ....................\n",
      "[CV]  max_depth=5, n_estimators=75, random_state=0, score=0.739130 -   0.1s\n",
      "[CV] max_depth=5, n_estimators=75, random_state=0 ....................\n",
      "[CV]  max_depth=5, n_estimators=75, random_state=0, score=0.804348 -   0.0s\n",
      "[CV] max_depth=5, n_estimators=75, random_state=0 ....................\n",
      "[CV]  max_depth=5, n_estimators=75, random_state=0, score=0.758242 -   0.1s\n",
      "[CV] max_depth=5, n_estimators=75, random_state=1 ....................\n",
      "[CV]  max_depth=5, n_estimators=75, random_state=1, score=0.838710 -   0.1s\n",
      "[CV] max_depth=5, n_estimators=75, random_state=1 ....................\n",
      "[CV]  max_depth=5, n_estimators=75, random_state=1, score=0.782609 -   0.1s\n",
      "[CV] max_depth=5, n_estimators=75, random_state=1 ....................\n",
      "[CV]  max_depth=5, n_estimators=75, random_state=1, score=0.760870 -   0.0s\n",
      "[CV] max_depth=5, n_estimators=75, random_state=1 ....................\n",
      "[CV]  max_depth=5, n_estimators=75, random_state=1, score=0.815217 -   0.1s\n",
      "[CV] max_depth=5, n_estimators=75, random_state=1 ....................\n",
      "[CV]  max_depth=5, n_estimators=75, random_state=1, score=0.758242 -   0.0s\n",
      "[CV] max_depth=5, n_estimators=75, random_state=3 ....................\n",
      "[CV]  max_depth=5, n_estimators=75, random_state=3, score=0.827957 -   0.1s\n",
      "[CV] max_depth=5, n_estimators=75, random_state=3 ....................\n",
      "[CV]  max_depth=5, n_estimators=75, random_state=3, score=0.771739 -   0.0s\n",
      "[CV] max_depth=5, n_estimators=75, random_state=3 ....................\n",
      "[CV]  max_depth=5, n_estimators=75, random_state=3, score=0.771739 -   0.0s\n",
      "[CV] max_depth=5, n_estimators=75, random_state=3 ....................\n",
      "[CV]  max_depth=5, n_estimators=75, random_state=3, score=0.804348 -   0.0s\n",
      "[CV] max_depth=5, n_estimators=75, random_state=3 ....................\n",
      "[CV]  max_depth=5, n_estimators=75, random_state=3, score=0.758242 -   0.1s\n",
      "[CV] max_depth=5, n_estimators=100, random_state=0 ...................\n",
      "[CV]  max_depth=5, n_estimators=100, random_state=0, score=0.838710 -   0.1s\n",
      "[CV] max_depth=5, n_estimators=100, random_state=0 ...................\n",
      "[CV]  max_depth=5, n_estimators=100, random_state=0, score=0.782609 -   0.1s\n",
      "[CV] max_depth=5, n_estimators=100, random_state=0 ...................\n",
      "[CV]  max_depth=5, n_estimators=100, random_state=0, score=0.739130 -   0.1s\n",
      "[CV] max_depth=5, n_estimators=100, random_state=0 ...................\n",
      "[CV]  max_depth=5, n_estimators=100, random_state=0, score=0.793478 -   0.1s\n",
      "[CV] max_depth=5, n_estimators=100, random_state=0 ...................\n",
      "[CV]  max_depth=5, n_estimators=100, random_state=0, score=0.758242 -   0.1s\n",
      "[CV] max_depth=5, n_estimators=100, random_state=1 ...................\n",
      "[CV]  max_depth=5, n_estimators=100, random_state=1, score=0.838710 -   0.1s\n",
      "[CV] max_depth=5, n_estimators=100, random_state=1 ...................\n",
      "[CV]  max_depth=5, n_estimators=100, random_state=1, score=0.771739 -   0.2s\n",
      "[CV] max_depth=5, n_estimators=100, random_state=1 ...................\n",
      "[CV]  max_depth=5, n_estimators=100, random_state=1, score=0.760870 -   0.1s\n",
      "[CV] max_depth=5, n_estimators=100, random_state=1 ...................\n",
      "[CV]  max_depth=5, n_estimators=100, random_state=1, score=0.826087 -   0.1s\n",
      "[CV] max_depth=5, n_estimators=100, random_state=1 ...................\n",
      "[CV]  max_depth=5, n_estimators=100, random_state=1, score=0.758242 -   0.1s\n",
      "[CV] max_depth=5, n_estimators=100, random_state=3 ...................\n",
      "[CV]  max_depth=5, n_estimators=100, random_state=3, score=0.827957 -   0.1s\n",
      "[CV] max_depth=5, n_estimators=100, random_state=3 ...................\n",
      "[CV]  max_depth=5, n_estimators=100, random_state=3, score=0.771739 -   0.1s\n",
      "[CV] max_depth=5, n_estimators=100, random_state=3 ...................\n",
      "[CV]  max_depth=5, n_estimators=100, random_state=3, score=0.771739 -   0.1s\n",
      "[CV] max_depth=5, n_estimators=100, random_state=3 ...................\n",
      "[CV]  max_depth=5, n_estimators=100, random_state=3, score=0.815217 -   0.1s\n",
      "[CV] max_depth=5, n_estimators=100, random_state=3 ...................\n",
      "[CV]  max_depth=5, n_estimators=100, random_state=3, score=0.758242 -   0.1s\n",
      "[CV] max_depth=5, n_estimators=125, random_state=0 ...................\n",
      "[CV]  max_depth=5, n_estimators=125, random_state=0, score=0.838710 -   0.1s\n",
      "[CV] max_depth=5, n_estimators=125, random_state=0 ...................\n",
      "[CV]  max_depth=5, n_estimators=125, random_state=0, score=0.782609 -   0.1s\n",
      "[CV] max_depth=5, n_estimators=125, random_state=0 ...................\n",
      "[CV]  max_depth=5, n_estimators=125, random_state=0, score=0.750000 -   0.1s\n",
      "[CV] max_depth=5, n_estimators=125, random_state=0 ...................\n",
      "[CV]  max_depth=5, n_estimators=125, random_state=0, score=0.793478 -   0.1s\n",
      "[CV] max_depth=5, n_estimators=125, random_state=0 ...................\n",
      "[CV]  max_depth=5, n_estimators=125, random_state=0, score=0.758242 -   0.1s\n",
      "[CV] max_depth=5, n_estimators=125, random_state=1 ...................\n",
      "[CV]  max_depth=5, n_estimators=125, random_state=1, score=0.838710 -   0.1s\n",
      "[CV] max_depth=5, n_estimators=125, random_state=1 ...................\n",
      "[CV]  max_depth=5, n_estimators=125, random_state=1, score=0.771739 -   0.1s\n",
      "[CV] max_depth=5, n_estimators=125, random_state=1 ...................\n",
      "[CV]  max_depth=5, n_estimators=125, random_state=1, score=0.760870 -   0.2s\n",
      "[CV] max_depth=5, n_estimators=125, random_state=1 ...................\n",
      "[CV]  max_depth=5, n_estimators=125, random_state=1, score=0.826087 -   0.1s\n",
      "[CV] max_depth=5, n_estimators=125, random_state=1 ...................\n",
      "[CV]  max_depth=5, n_estimators=125, random_state=1, score=0.758242 -   0.1s\n",
      "[CV] max_depth=5, n_estimators=125, random_state=3 ...................\n",
      "[CV]  max_depth=5, n_estimators=125, random_state=3, score=0.838710 -   0.1s\n",
      "[CV] max_depth=5, n_estimators=125, random_state=3 ...................\n",
      "[CV]  max_depth=5, n_estimators=125, random_state=3, score=0.771739 -   0.3s\n",
      "[CV] max_depth=5, n_estimators=125, random_state=3 ...................\n",
      "[CV]  max_depth=5, n_estimators=125, random_state=3, score=0.771739 -   0.1s\n",
      "[CV] max_depth=5, n_estimators=125, random_state=3 ...................\n",
      "[CV]  max_depth=5, n_estimators=125, random_state=3, score=0.815217 -   0.1s\n",
      "[CV] max_depth=5, n_estimators=125, random_state=3 ...................\n",
      "[CV]  max_depth=5, n_estimators=125, random_state=3, score=0.758242 -   0.2s\n",
      "[CV] max_depth=6, n_estimators=50, random_state=0 ....................\n",
      "[CV]  max_depth=6, n_estimators=50, random_state=0, score=0.827957 -   0.0s\n",
      "[CV] max_depth=6, n_estimators=50, random_state=0 ....................\n",
      "[CV]  max_depth=6, n_estimators=50, random_state=0, score=0.782609 -   0.0s\n",
      "[CV] max_depth=6, n_estimators=50, random_state=0 ....................\n",
      "[CV]  max_depth=6, n_estimators=50, random_state=0, score=0.739130 -   0.0s\n",
      "[CV] max_depth=6, n_estimators=50, random_state=0 ....................\n",
      "[CV]  max_depth=6, n_estimators=50, random_state=0, score=0.782609 -   0.0s\n",
      "[CV] max_depth=6, n_estimators=50, random_state=0 ....................\n",
      "[CV]  max_depth=6, n_estimators=50, random_state=0, score=0.758242 -   0.0s\n",
      "[CV] max_depth=6, n_estimators=50, random_state=1 ....................\n"
     ]
    },
    {
     "name": "stdout",
     "output_type": "stream",
     "text": [
      "[CV]  max_depth=6, n_estimators=50, random_state=1, score=0.827957 -   0.0s\n",
      "[CV] max_depth=6, n_estimators=50, random_state=1 ....................\n",
      "[CV]  max_depth=6, n_estimators=50, random_state=1, score=0.771739 -   0.0s\n",
      "[CV] max_depth=6, n_estimators=50, random_state=1 ....................\n",
      "[CV]  max_depth=6, n_estimators=50, random_state=1, score=0.782609 -   0.0s\n",
      "[CV] max_depth=6, n_estimators=50, random_state=1 ....................\n",
      "[CV]  max_depth=6, n_estimators=50, random_state=1, score=0.793478 -   0.0s\n",
      "[CV] max_depth=6, n_estimators=50, random_state=1 ....................\n",
      "[CV]  max_depth=6, n_estimators=50, random_state=1, score=0.758242 -   0.0s\n",
      "[CV] max_depth=6, n_estimators=50, random_state=3 ....................\n",
      "[CV]  max_depth=6, n_estimators=50, random_state=3, score=0.827957 -   0.0s\n",
      "[CV] max_depth=6, n_estimators=50, random_state=3 ....................\n",
      "[CV]  max_depth=6, n_estimators=50, random_state=3, score=0.771739 -   0.0s\n",
      "[CV] max_depth=6, n_estimators=50, random_state=3 ....................\n",
      "[CV]  max_depth=6, n_estimators=50, random_state=3, score=0.750000 -   0.0s\n",
      "[CV] max_depth=6, n_estimators=50, random_state=3 ....................\n",
      "[CV]  max_depth=6, n_estimators=50, random_state=3, score=0.804348 -   0.0s\n",
      "[CV] max_depth=6, n_estimators=50, random_state=3 ....................\n",
      "[CV]  max_depth=6, n_estimators=50, random_state=3, score=0.758242 -   0.0s\n",
      "[CV] max_depth=6, n_estimators=75, random_state=0 ....................\n",
      "[CV]  max_depth=6, n_estimators=75, random_state=0, score=0.827957 -   0.1s\n",
      "[CV] max_depth=6, n_estimators=75, random_state=0 ....................\n",
      "[CV]  max_depth=6, n_estimators=75, random_state=0, score=0.771739 -   0.0s\n",
      "[CV] max_depth=6, n_estimators=75, random_state=0 ....................\n",
      "[CV]  max_depth=6, n_estimators=75, random_state=0, score=0.750000 -   0.0s\n",
      "[CV] max_depth=6, n_estimators=75, random_state=0 ....................\n",
      "[CV]  max_depth=6, n_estimators=75, random_state=0, score=0.793478 -   0.0s\n",
      "[CV] max_depth=6, n_estimators=75, random_state=0 ....................\n",
      "[CV]  max_depth=6, n_estimators=75, random_state=0, score=0.758242 -   0.1s\n",
      "[CV] max_depth=6, n_estimators=75, random_state=1 ....................\n",
      "[CV]  max_depth=6, n_estimators=75, random_state=1, score=0.838710 -   0.0s\n",
      "[CV] max_depth=6, n_estimators=75, random_state=1 ....................\n",
      "[CV]  max_depth=6, n_estimators=75, random_state=1, score=0.771739 -   0.0s\n",
      "[CV] max_depth=6, n_estimators=75, random_state=1 ....................\n",
      "[CV]  max_depth=6, n_estimators=75, random_state=1, score=0.771739 -   0.0s\n",
      "[CV] max_depth=6, n_estimators=75, random_state=1 ....................\n",
      "[CV]  max_depth=6, n_estimators=75, random_state=1, score=0.793478 -   0.1s\n",
      "[CV] max_depth=6, n_estimators=75, random_state=1 ....................\n",
      "[CV]  max_depth=6, n_estimators=75, random_state=1, score=0.758242 -   0.1s\n",
      "[CV] max_depth=6, n_estimators=75, random_state=3 ....................\n",
      "[CV]  max_depth=6, n_estimators=75, random_state=3, score=0.827957 -   0.1s\n",
      "[CV] max_depth=6, n_estimators=75, random_state=3 ....................\n",
      "[CV]  max_depth=6, n_estimators=75, random_state=3, score=0.771739 -   0.1s\n",
      "[CV] max_depth=6, n_estimators=75, random_state=3 ....................\n",
      "[CV]  max_depth=6, n_estimators=75, random_state=3, score=0.739130 -   0.1s\n",
      "[CV] max_depth=6, n_estimators=75, random_state=3 ....................\n",
      "[CV]  max_depth=6, n_estimators=75, random_state=3, score=0.804348 -   0.0s\n",
      "[CV] max_depth=6, n_estimators=75, random_state=3 ....................\n",
      "[CV]  max_depth=6, n_estimators=75, random_state=3, score=0.758242 -   0.1s\n",
      "[CV] max_depth=6, n_estimators=100, random_state=0 ...................\n",
      "[CV]  max_depth=6, n_estimators=100, random_state=0, score=0.827957 -   0.1s\n",
      "[CV] max_depth=6, n_estimators=100, random_state=0 ...................\n",
      "[CV]  max_depth=6, n_estimators=100, random_state=0, score=0.771739 -   0.1s\n",
      "[CV] max_depth=6, n_estimators=100, random_state=0 ...................\n",
      "[CV]  max_depth=6, n_estimators=100, random_state=0, score=0.739130 -   0.1s\n",
      "[CV] max_depth=6, n_estimators=100, random_state=0 ...................\n",
      "[CV]  max_depth=6, n_estimators=100, random_state=0, score=0.793478 -   0.1s\n",
      "[CV] max_depth=6, n_estimators=100, random_state=0 ...................\n",
      "[CV]  max_depth=6, n_estimators=100, random_state=0, score=0.758242 -   0.1s\n",
      "[CV] max_depth=6, n_estimators=100, random_state=1 ...................\n",
      "[CV]  max_depth=6, n_estimators=100, random_state=1, score=0.838710 -   0.2s\n",
      "[CV] max_depth=6, n_estimators=100, random_state=1 ...................\n",
      "[CV]  max_depth=6, n_estimators=100, random_state=1, score=0.771739 -   0.2s\n",
      "[CV] max_depth=6, n_estimators=100, random_state=1 ...................\n",
      "[CV]  max_depth=6, n_estimators=100, random_state=1, score=0.750000 -   0.2s\n",
      "[CV] max_depth=6, n_estimators=100, random_state=1 ...................\n",
      "[CV]  max_depth=6, n_estimators=100, random_state=1, score=0.782609 -   0.2s\n",
      "[CV] max_depth=6, n_estimators=100, random_state=1 ...................\n",
      "[CV]  max_depth=6, n_estimators=100, random_state=1, score=0.758242 -   0.2s\n",
      "[CV] max_depth=6, n_estimators=100, random_state=3 ...................\n",
      "[CV]  max_depth=6, n_estimators=100, random_state=3, score=0.838710 -   0.1s\n",
      "[CV] max_depth=6, n_estimators=100, random_state=3 ...................\n",
      "[CV]  max_depth=6, n_estimators=100, random_state=3, score=0.771739 -   0.1s\n",
      "[CV] max_depth=6, n_estimators=100, random_state=3 ...................\n",
      "[CV]  max_depth=6, n_estimators=100, random_state=3, score=0.750000 -   0.1s\n",
      "[CV] max_depth=6, n_estimators=100, random_state=3 ...................\n",
      "[CV]  max_depth=6, n_estimators=100, random_state=3, score=0.793478 -   0.1s\n",
      "[CV] max_depth=6, n_estimators=100, random_state=3 ...................\n",
      "[CV]  max_depth=6, n_estimators=100, random_state=3, score=0.758242 -   0.2s\n",
      "[CV] max_depth=6, n_estimators=125, random_state=0 ...................\n",
      "[CV]  max_depth=6, n_estimators=125, random_state=0, score=0.827957 -   0.1s\n",
      "[CV] max_depth=6, n_estimators=125, random_state=0 ...................\n",
      "[CV]  max_depth=6, n_estimators=125, random_state=0, score=0.771739 -   0.2s\n",
      "[CV] max_depth=6, n_estimators=125, random_state=0 ...................\n",
      "[CV]  max_depth=6, n_estimators=125, random_state=0, score=0.750000 -   0.1s\n",
      "[CV] max_depth=6, n_estimators=125, random_state=0 ...................\n",
      "[CV]  max_depth=6, n_estimators=125, random_state=0, score=0.793478 -   0.1s\n",
      "[CV] max_depth=6, n_estimators=125, random_state=0 ...................\n",
      "[CV]  max_depth=6, n_estimators=125, random_state=0, score=0.758242 -   0.1s\n",
      "[CV] max_depth=6, n_estimators=125, random_state=1 ...................\n",
      "[CV]  max_depth=6, n_estimators=125, random_state=1, score=0.838710 -   0.1s\n",
      "[CV] max_depth=6, n_estimators=125, random_state=1 ...................\n",
      "[CV]  max_depth=6, n_estimators=125, random_state=1, score=0.771739 -   0.1s\n",
      "[CV] max_depth=6, n_estimators=125, random_state=1 ...................\n",
      "[CV]  max_depth=6, n_estimators=125, random_state=1, score=0.750000 -   0.1s\n",
      "[CV] max_depth=6, n_estimators=125, random_state=1 ...................\n",
      "[CV]  max_depth=6, n_estimators=125, random_state=1, score=0.804348 -   0.1s\n",
      "[CV] max_depth=6, n_estimators=125, random_state=1 ...................\n",
      "[CV]  max_depth=6, n_estimators=125, random_state=1, score=0.758242 -   0.1s\n",
      "[CV] max_depth=6, n_estimators=125, random_state=3 ...................\n",
      "[CV]  max_depth=6, n_estimators=125, random_state=3, score=0.838710 -   0.2s\n",
      "[CV] max_depth=6, n_estimators=125, random_state=3 ...................\n",
      "[CV]  max_depth=6, n_estimators=125, random_state=3, score=0.771739 -   0.2s\n",
      "[CV] max_depth=6, n_estimators=125, random_state=3 ...................\n",
      "[CV]  max_depth=6, n_estimators=125, random_state=3, score=0.750000 -   0.1s\n",
      "[CV] max_depth=6, n_estimators=125, random_state=3 ...................\n",
      "[CV]  max_depth=6, n_estimators=125, random_state=3, score=0.793478 -   0.1s\n",
      "[CV] max_depth=6, n_estimators=125, random_state=3 ...................\n",
      "[CV]  max_depth=6, n_estimators=125, random_state=3, score=0.758242 -   0.3s\n",
      "{'max_depth': 4, 'n_estimators': 50, 'random_state': 1}\n",
      "0.7956521739130434\n"
     ]
    },
    {
     "name": "stderr",
     "output_type": "stream",
     "text": [
      "[Parallel(n_jobs=1)]: Done 180 out of 180 | elapsed:   32.4s finished\n"
     ]
    }
   ],
   "source": [
    "model=RandomForestClassifier()\n",
    "parameters={ 'max_depth':[4,5,6],'random_state':[0,1,3],'n_estimators':[50,75,100,125] }\n",
    "GS=grid_search.GridSearchCV(model,parameters,cv=5,verbose=10)\n",
    "GS.fit(X_train,y_train)\n",
    "print(GS.best_params_)\n",
    "print(GS.best_score_)"
   ]
  },
  {
   "cell_type": "markdown",
   "metadata": {},
   "source": [
    "Let's use above best parameters"
   ]
  },
  {
   "cell_type": "code",
   "execution_count": 129,
   "metadata": {},
   "outputs": [
    {
     "name": "stdout",
     "output_type": "stream",
     "text": [
      "Confusion Matrix:\n",
      "[[ 13  20]\n",
      " [  3 118]]\n",
      "Accuracy Score: 0.8506493506493507\n",
      "             precision    recall  f1-score   support\n",
      "\n",
      "          0       0.81      0.39      0.53        33\n",
      "          1       0.86      0.98      0.91       121\n",
      "\n",
      "avg / total       0.85      0.85      0.83       154\n",
      "\n",
      "Sensititvity: 0.3939393939393939\n",
      "Specificity: 0.024793388429752067\n",
      "Log Loss: 5.158492526178894\n"
     ]
    }
   ],
   "source": [
    "clf = RandomForestClassifier(n_estimators=50, max_depth=4,random_state=1)\n",
    "clf.fit(X_train, y_train)\n",
    "Y_pred=clf.predict(X_test)\n",
    "print('Confusion Matrix:')\n",
    "print(confusion_matrix(y_test,Y_pred))\n",
    "print('Accuracy Score:',accuracy_score(y_test,Y_pred))\n",
    "print(classification_report(y_test,Y_pred))\n",
    "cm=confusion_matrix(y_test,Y_pred)\n",
    "print('Sensititvity:',cm[0,0]/(cm[0,0]+cm[0,1]))\n",
    "print('Specificity:',cm[1,0]/(cm[1,0]+cm[1,1]))\n",
    "print('Log Loss:',log_loss(y_test,Y_pred))"
   ]
  },
  {
   "cell_type": "markdown",
   "metadata": {},
   "source": [
    "Grid search also did not give any improvement"
   ]
  },
  {
   "cell_type": "markdown",
   "metadata": {},
   "source": [
    "So Far best Score was given by Random Forset(85.06) and Logistics Regression(85.06),GaussainNB(84.4) But the common problem we faced Low Recall in other words \n",
    "is True Negative. We  are facing trouble in classifying Postives as positives. "
   ]
  },
  {
   "cell_type": "code",
   "execution_count": null,
   "metadata": {},
   "outputs": [],
   "source": []
  }
 ],
 "metadata": {
  "kernelspec": {
   "display_name": "Python 3",
   "language": "python",
   "name": "python3"
  },
  "language_info": {
   "codemirror_mode": {
    "name": "ipython",
    "version": 3
   },
   "file_extension": ".py",
   "mimetype": "text/x-python",
   "name": "python",
   "nbconvert_exporter": "python",
   "pygments_lexer": "ipython3",
   "version": "3.6.5"
  }
 },
 "nbformat": 4,
 "nbformat_minor": 2
}
